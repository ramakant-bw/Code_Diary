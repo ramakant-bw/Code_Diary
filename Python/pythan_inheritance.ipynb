{
 "cells": [
  {
   "cell_type": "markdown",
   "id": "8b7ce020",
   "metadata": {},
   "source": [
    "### Python Inheritance"
   ]
  },
  {
   "cell_type": "code",
   "execution_count": 1,
   "id": "c204c96c",
   "metadata": {},
   "outputs": [
    {
     "name": "stdout",
     "output_type": "stream",
     "text": [
      "car maruti is SUV type and it run at 250 kmph top speed maximum\n"
     ]
    }
   ],
   "source": [
    "class Car:\n",
    "    def __init__(self, car_details):\n",
    "        self.brand = car_details.get('brand')\n",
    "        self.type = car_details.get('type')\n",
    "        self.top_speed = car_details.get('top_speed')\n",
    "\n",
    "    def car_run(self):\n",
    "        print(f'car {self.brand} is {self.type} type and it run at {self.top_speed} top speed maximum')\n",
    "\n",
    "\n",
    "\n",
    "car_details = {\n",
    "    'brand':'maruti',\n",
    "    'type' : 'SUV',\n",
    "    'top_speed':'250 kmph'\n",
    "}\n",
    "\n",
    "\n",
    "car_info = Car(car_details)\n",
    "car_info.car_run()"
   ]
  }
 ],
 "metadata": {
  "kernelspec": {
   "display_name": "Python 3",
   "language": "python",
   "name": "python3"
  },
  "language_info": {
   "codemirror_mode": {
    "name": "ipython",
    "version": 3
   },
   "file_extension": ".py",
   "mimetype": "text/x-python",
   "name": "python",
   "nbconvert_exporter": "python",
   "pygments_lexer": "ipython3",
   "version": "3.13.7"
  }
 },
 "nbformat": 4,
 "nbformat_minor": 5
}
