{
 "cells": [
  {
   "cell_type": "markdown",
   "id": "8b7ce020",
   "metadata": {},
   "source": [
    "### Python Inheritance"
   ]
  },
  {
   "cell_type": "code",
   "execution_count": 1,
   "id": "c204c96c",
   "metadata": {},
   "outputs": [
    {
     "name": "stdout",
     "output_type": "stream",
     "text": [
      "car maruti is SUV type and it run at 250 kmph top speed maximum\n",
      "The dog named Buddy barks.\n"
     ]
    }
   ],
   "source": [
    "class Car:\n",
    "    def __init__(self, car_details):\n",
    "        self.brand = car_details.get('brand')\n",
    "        self.type = car_details.get('type')\n",
    "        self.top_speed = car_details.get('top_speed')\n",
    "\n",
    "    def car_run(self):\n",
    "        print(f'car {self.brand} is {self.type} type and it run at {self.top_speed} top speed maximum')\n",
    "\n",
    "\n",
    "\n",
    "car_details = {\n",
    "    'brand':'maruti',\n",
    "    'type' : 'SUV',\n",
    "    'top_speed':'250 kmph'\n",
    "}\n",
    "\n",
    "\n",
    "car_info = Car(car_details)\n",
    "car_info.car_run()\n",
    "\n",
    "\n",
    "\n",
    "# Single inhertiance\n",
    "\n",
    "\n",
    "# Parent class\n",
    "class Animal:\n",
    "    def __init__(self, name):\n",
    "        self.name = name\n",
    "\n",
    "    def speak(self):\n",
    "        print(\"The animal makes a sound.\")\n",
    "\n",
    "# Child class inheriting from Animal\n",
    "class Dog(Animal):\n",
    "    def __init__(self, name, breed):\n",
    "        super().__init__(name) # Calls the parent's constructor\n",
    "        self.breed = breed\n",
    "\n",
    "    def speak(self): # Overriding the parent method\n",
    "        print(f\"The dog named {self.name} barks.\")\n",
    "\n",
    "# Creating an object of the child class\n",
    "my_dog = Dog(\"Buddy\", \"Golden Retriever\")\n",
    "my_dog.speak()\n",
    "\n",
    "\n"
   ]
  }
 ],
 "metadata": {
  "kernelspec": {
   "display_name": "Python 3",
   "language": "python",
   "name": "python3"
  },
  "language_info": {
   "codemirror_mode": {
    "name": "ipython",
    "version": 3
   },
   "file_extension": ".py",
   "mimetype": "text/x-python",
   "name": "python",
   "nbconvert_exporter": "python",
   "pygments_lexer": "ipython3",
   "version": "3.13.7"
  }
 },
 "nbformat": 4,
 "nbformat_minor": 5
}
