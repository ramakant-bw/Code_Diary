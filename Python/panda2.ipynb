{
 "cells": [
  {
   "cell_type": "code",
   "execution_count": 2,
   "id": "6c09dd31",
   "metadata": {},
   "outputs": [],
   "source": [
    "import pandas as pd"
   ]
  },
  {
   "cell_type": "markdown",
   "id": "c15f08c0",
   "metadata": {},
   "source": [
    "### reading data from csv file \n"
   ]
  },
  {
   "cell_type": "code",
   "execution_count": 3,
   "id": "a14dac8d",
   "metadata": {},
   "outputs": [
    {
     "name": "stdout",
     "output_type": "stream",
     "text": [
      "      brand  laptop  mobile  speaker  headphone     tv  total\n",
      "0     apple     200     190      0.0         55    0.0    445\n",
      "1     haier       0       0      5.0          0   20.0     25\n",
      "2        lg       0      20     40.0         50   40.0    150\n",
      "3        mi      20       4      1.0          5    2.0     32\n",
      "4  samsung1      55     150     30.0         45  100.0    380\n",
      "5  samsung1      55      30      NaN         45  100.0    380\n",
      "6      sony       0      67     45.0         89    NaN    451\n",
      "----------------------------------------\n"
     ]
    }
   ],
   "source": [
    "\n",
    "\n",
    "df1 = pd.read_csv('./moviedata/day20data.csv')\n",
    "\n",
    "print(df1)\n",
    "\n",
    "print('--'*20)"
   ]
  },
  {
   "cell_type": "markdown",
   "id": "b463823f",
   "metadata": {},
   "source": [
    "### describe method\n",
    "\n",
    "#### give info about dataframe like count, mean, std, min, max etc"
   ]
  },
  {
   "cell_type": "code",
   "execution_count": 5,
   "id": "779c596d",
   "metadata": {},
   "outputs": [
    {
     "data": {
      "text/html": [
       "<div>\n",
       "<style scoped>\n",
       "    .dataframe tbody tr th:only-of-type {\n",
       "        vertical-align: middle;\n",
       "    }\n",
       "\n",
       "    .dataframe tbody tr th {\n",
       "        vertical-align: top;\n",
       "    }\n",
       "\n",
       "    .dataframe thead th {\n",
       "        text-align: right;\n",
       "    }\n",
       "</style>\n",
       "<table border=\"1\" class=\"dataframe\">\n",
       "  <thead>\n",
       "    <tr style=\"text-align: right;\">\n",
       "      <th></th>\n",
       "      <th>laptop</th>\n",
       "      <th>mobile</th>\n",
       "      <th>speaker</th>\n",
       "      <th>headphone</th>\n",
       "      <th>tv</th>\n",
       "      <th>total</th>\n",
       "    </tr>\n",
       "  </thead>\n",
       "  <tbody>\n",
       "    <tr>\n",
       "      <th>count</th>\n",
       "      <td>7.000000</td>\n",
       "      <td>7.000000</td>\n",
       "      <td>6.000000</td>\n",
       "      <td>7.000000</td>\n",
       "      <td>6.000000</td>\n",
       "      <td>7.000000</td>\n",
       "    </tr>\n",
       "    <tr>\n",
       "      <th>mean</th>\n",
       "      <td>47.142857</td>\n",
       "      <td>65.857143</td>\n",
       "      <td>20.166667</td>\n",
       "      <td>41.285714</td>\n",
       "      <td>43.666667</td>\n",
       "      <td>266.142857</td>\n",
       "    </tr>\n",
       "    <tr>\n",
       "      <th>std</th>\n",
       "      <td>71.755206</td>\n",
       "      <td>75.326907</td>\n",
       "      <td>20.546695</td>\n",
       "      <td>30.521655</td>\n",
       "      <td>45.963754</td>\n",
       "      <td>190.853721</td>\n",
       "    </tr>\n",
       "    <tr>\n",
       "      <th>min</th>\n",
       "      <td>0.000000</td>\n",
       "      <td>0.000000</td>\n",
       "      <td>0.000000</td>\n",
       "      <td>0.000000</td>\n",
       "      <td>0.000000</td>\n",
       "      <td>25.000000</td>\n",
       "    </tr>\n",
       "    <tr>\n",
       "      <th>25%</th>\n",
       "      <td>0.000000</td>\n",
       "      <td>12.000000</td>\n",
       "      <td>2.000000</td>\n",
       "      <td>25.000000</td>\n",
       "      <td>6.500000</td>\n",
       "      <td>91.000000</td>\n",
       "    </tr>\n",
       "    <tr>\n",
       "      <th>50%</th>\n",
       "      <td>20.000000</td>\n",
       "      <td>30.000000</td>\n",
       "      <td>17.500000</td>\n",
       "      <td>45.000000</td>\n",
       "      <td>30.000000</td>\n",
       "      <td>380.000000</td>\n",
       "    </tr>\n",
       "    <tr>\n",
       "      <th>75%</th>\n",
       "      <td>55.000000</td>\n",
       "      <td>108.500000</td>\n",
       "      <td>37.500000</td>\n",
       "      <td>52.500000</td>\n",
       "      <td>85.000000</td>\n",
       "      <td>412.500000</td>\n",
       "    </tr>\n",
       "    <tr>\n",
       "      <th>max</th>\n",
       "      <td>200.000000</td>\n",
       "      <td>190.000000</td>\n",
       "      <td>45.000000</td>\n",
       "      <td>89.000000</td>\n",
       "      <td>100.000000</td>\n",
       "      <td>451.000000</td>\n",
       "    </tr>\n",
       "  </tbody>\n",
       "</table>\n",
       "</div>"
      ],
      "text/plain": [
       "           laptop      mobile    speaker  headphone          tv       total\n",
       "count    7.000000    7.000000   6.000000   7.000000    6.000000    7.000000\n",
       "mean    47.142857   65.857143  20.166667  41.285714   43.666667  266.142857\n",
       "std     71.755206   75.326907  20.546695  30.521655   45.963754  190.853721\n",
       "min      0.000000    0.000000   0.000000   0.000000    0.000000   25.000000\n",
       "25%      0.000000   12.000000   2.000000  25.000000    6.500000   91.000000\n",
       "50%     20.000000   30.000000  17.500000  45.000000   30.000000  380.000000\n",
       "75%     55.000000  108.500000  37.500000  52.500000   85.000000  412.500000\n",
       "max    200.000000  190.000000  45.000000  89.000000  100.000000  451.000000"
      ]
     },
     "execution_count": 5,
     "metadata": {},
     "output_type": "execute_result"
    }
   ],
   "source": [
    "df1.describe()"
   ]
  },
  {
   "cell_type": "code",
   "execution_count": 6,
   "id": "bb6a5b8f",
   "metadata": {},
   "outputs": [
    {
     "name": "stdout",
     "output_type": "stream",
     "text": [
      "<class 'pandas.core.frame.DataFrame'>\n",
      "RangeIndex: 7 entries, 0 to 6\n",
      "Data columns (total 7 columns):\n",
      " #   Column     Non-Null Count  Dtype  \n",
      "---  ------     --------------  -----  \n",
      " 0   brand      7 non-null      object \n",
      " 1   laptop     7 non-null      int64  \n",
      " 2   mobile     7 non-null      int64  \n",
      " 3   speaker    6 non-null      float64\n",
      " 4   headphone  7 non-null      int64  \n",
      " 5   tv         6 non-null      float64\n",
      " 6   total      7 non-null      int64  \n",
      "dtypes: float64(2), int64(4), object(1)\n",
      "memory usage: 524.0+ bytes\n"
     ]
    }
   ],
   "source": [
    "df1.info()"
   ]
  },
  {
   "cell_type": "code",
   "execution_count": 8,
   "id": "3726e141",
   "metadata": {},
   "outputs": [
    {
     "data": {
      "text/plain": [
       "brand         object\n",
       "laptop         int64\n",
       "mobile         int64\n",
       "speaker      float64\n",
       "headphone      int64\n",
       "tv           float64\n",
       "total          int64\n",
       "dtype: object"
      ]
     },
     "execution_count": 8,
     "metadata": {},
     "output_type": "execute_result"
    }
   ],
   "source": [
    "df1.dtypes"
   ]
  },
  {
   "cell_type": "code",
   "execution_count": 9,
   "id": "f6bd277c",
   "metadata": {},
   "outputs": [
    {
     "data": {
      "text/plain": [
       "(7, 7)"
      ]
     },
     "execution_count": 9,
     "metadata": {},
     "output_type": "execute_result"
    }
   ],
   "source": [
    "df1.shape"
   ]
  },
  {
   "cell_type": "code",
   "execution_count": 10,
   "id": "af479d9b",
   "metadata": {},
   "outputs": [
    {
     "data": {
      "text/plain": [
       "0       apple\n",
       "1       haier\n",
       "2          lg\n",
       "3          mi\n",
       "4    samsung1\n",
       "5    samsung1\n",
       "6        sony\n",
       "Name: brand, dtype: object"
      ]
     },
     "execution_count": 10,
     "metadata": {},
     "output_type": "execute_result"
    }
   ],
   "source": [
    "df1['brand']"
   ]
  },
  {
   "cell_type": "code",
   "execution_count": 12,
   "id": "3e350b7d",
   "metadata": {},
   "outputs": [
    {
     "data": {
      "text/plain": [
       "np.int64(0)"
      ]
     },
     "execution_count": 12,
     "metadata": {},
     "output_type": "execute_result"
    }
   ],
   "source": [
    "df1['laptop'][2]"
   ]
  },
  {
   "cell_type": "markdown",
   "id": "4df283b3",
   "metadata": {},
   "source": [
    "### printing multi column"
   ]
  },
  {
   "cell_type": "code",
   "execution_count": 13,
   "id": "2133f452",
   "metadata": {},
   "outputs": [
    {
     "data": {
      "text/html": [
       "<div>\n",
       "<style scoped>\n",
       "    .dataframe tbody tr th:only-of-type {\n",
       "        vertical-align: middle;\n",
       "    }\n",
       "\n",
       "    .dataframe tbody tr th {\n",
       "        vertical-align: top;\n",
       "    }\n",
       "\n",
       "    .dataframe thead th {\n",
       "        text-align: right;\n",
       "    }\n",
       "</style>\n",
       "<table border=\"1\" class=\"dataframe\">\n",
       "  <thead>\n",
       "    <tr style=\"text-align: right;\">\n",
       "      <th></th>\n",
       "      <th>brand</th>\n",
       "      <th>laptop</th>\n",
       "    </tr>\n",
       "  </thead>\n",
       "  <tbody>\n",
       "    <tr>\n",
       "      <th>0</th>\n",
       "      <td>apple</td>\n",
       "      <td>200</td>\n",
       "    </tr>\n",
       "    <tr>\n",
       "      <th>1</th>\n",
       "      <td>haier</td>\n",
       "      <td>0</td>\n",
       "    </tr>\n",
       "    <tr>\n",
       "      <th>2</th>\n",
       "      <td>lg</td>\n",
       "      <td>0</td>\n",
       "    </tr>\n",
       "    <tr>\n",
       "      <th>3</th>\n",
       "      <td>mi</td>\n",
       "      <td>20</td>\n",
       "    </tr>\n",
       "    <tr>\n",
       "      <th>4</th>\n",
       "      <td>samsung1</td>\n",
       "      <td>55</td>\n",
       "    </tr>\n",
       "    <tr>\n",
       "      <th>5</th>\n",
       "      <td>samsung1</td>\n",
       "      <td>55</td>\n",
       "    </tr>\n",
       "    <tr>\n",
       "      <th>6</th>\n",
       "      <td>sony</td>\n",
       "      <td>0</td>\n",
       "    </tr>\n",
       "  </tbody>\n",
       "</table>\n",
       "</div>"
      ],
      "text/plain": [
       "      brand  laptop\n",
       "0     apple     200\n",
       "1     haier       0\n",
       "2        lg       0\n",
       "3        mi      20\n",
       "4  samsung1      55\n",
       "5  samsung1      55\n",
       "6      sony       0"
      ]
     },
     "execution_count": 13,
     "metadata": {},
     "output_type": "execute_result"
    }
   ],
   "source": [
    "df1[['brand','laptop']]"
   ]
  },
  {
   "cell_type": "code",
   "execution_count": 14,
   "id": "ea0ae061",
   "metadata": {},
   "outputs": [
    {
     "data": {
      "text/html": [
       "<div>\n",
       "<style scoped>\n",
       "    .dataframe tbody tr th:only-of-type {\n",
       "        vertical-align: middle;\n",
       "    }\n",
       "\n",
       "    .dataframe tbody tr th {\n",
       "        vertical-align: top;\n",
       "    }\n",
       "\n",
       "    .dataframe thead th {\n",
       "        text-align: right;\n",
       "    }\n",
       "</style>\n",
       "<table border=\"1\" class=\"dataframe\">\n",
       "  <thead>\n",
       "    <tr style=\"text-align: right;\">\n",
       "      <th></th>\n",
       "      <th>brand</th>\n",
       "      <th>laptop</th>\n",
       "      <th>mobile</th>\n",
       "      <th>speaker</th>\n",
       "      <th>headphone</th>\n",
       "      <th>tv</th>\n",
       "      <th>total</th>\n",
       "    </tr>\n",
       "  </thead>\n",
       "  <tbody>\n",
       "    <tr>\n",
       "      <th>1</th>\n",
       "      <td>haier</td>\n",
       "      <td>0</td>\n",
       "      <td>0</td>\n",
       "      <td>5.0</td>\n",
       "      <td>0</td>\n",
       "      <td>20.0</td>\n",
       "      <td>25</td>\n",
       "    </tr>\n",
       "    <tr>\n",
       "      <th>2</th>\n",
       "      <td>lg</td>\n",
       "      <td>0</td>\n",
       "      <td>20</td>\n",
       "      <td>40.0</td>\n",
       "      <td>50</td>\n",
       "      <td>40.0</td>\n",
       "      <td>150</td>\n",
       "    </tr>\n",
       "  </tbody>\n",
       "</table>\n",
       "</div>"
      ],
      "text/plain": [
       "   brand  laptop  mobile  speaker  headphone    tv  total\n",
       "1  haier       0       0      5.0          0  20.0     25\n",
       "2     lg       0      20     40.0         50  40.0    150"
      ]
     },
     "execution_count": 14,
     "metadata": {},
     "output_type": "execute_result"
    }
   ],
   "source": [
    "df1.iloc[1:3]"
   ]
  },
  {
   "cell_type": "code",
   "execution_count": 15,
   "id": "59dca492",
   "metadata": {},
   "outputs": [
    {
     "data": {
      "text/html": [
       "<div>\n",
       "<style scoped>\n",
       "    .dataframe tbody tr th:only-of-type {\n",
       "        vertical-align: middle;\n",
       "    }\n",
       "\n",
       "    .dataframe tbody tr th {\n",
       "        vertical-align: top;\n",
       "    }\n",
       "\n",
       "    .dataframe thead th {\n",
       "        text-align: right;\n",
       "    }\n",
       "</style>\n",
       "<table border=\"1\" class=\"dataframe\">\n",
       "  <thead>\n",
       "    <tr style=\"text-align: right;\">\n",
       "      <th></th>\n",
       "      <th>brand</th>\n",
       "      <th>laptop</th>\n",
       "      <th>mobile</th>\n",
       "      <th>speaker</th>\n",
       "      <th>headphone</th>\n",
       "      <th>tv</th>\n",
       "      <th>total</th>\n",
       "    </tr>\n",
       "  </thead>\n",
       "  <tbody>\n",
       "    <tr>\n",
       "      <th>1</th>\n",
       "      <td>haier</td>\n",
       "      <td>0</td>\n",
       "      <td>0</td>\n",
       "      <td>5.0</td>\n",
       "      <td>0</td>\n",
       "      <td>20.0</td>\n",
       "      <td>25</td>\n",
       "    </tr>\n",
       "    <tr>\n",
       "      <th>4</th>\n",
       "      <td>samsung1</td>\n",
       "      <td>55</td>\n",
       "      <td>150</td>\n",
       "      <td>30.0</td>\n",
       "      <td>45</td>\n",
       "      <td>100.0</td>\n",
       "      <td>380</td>\n",
       "    </tr>\n",
       "  </tbody>\n",
       "</table>\n",
       "</div>"
      ],
      "text/plain": [
       "      brand  laptop  mobile  speaker  headphone     tv  total\n",
       "1     haier       0       0      5.0          0   20.0     25\n",
       "4  samsung1      55     150     30.0         45  100.0    380"
      ]
     },
     "execution_count": 15,
     "metadata": {},
     "output_type": "execute_result"
    }
   ],
   "source": [
    "df1.iloc[1:6:3]"
   ]
  },
  {
   "cell_type": "code",
   "execution_count": 16,
   "id": "417e419d",
   "metadata": {},
   "outputs": [
    {
     "data": {
      "text/plain": [
       "brand        haier\n",
       "laptop           0\n",
       "mobile           0\n",
       "speaker        5.0\n",
       "headphone        0\n",
       "tv            20.0\n",
       "total           25\n",
       "Name: 1, dtype: object"
      ]
     },
     "execution_count": 16,
     "metadata": {},
     "output_type": "execute_result"
    }
   ],
   "source": [
    "df1.loc[1]"
   ]
  },
  {
   "cell_type": "code",
   "execution_count": 17,
   "id": "0b5ddb5e",
   "metadata": {},
   "outputs": [],
   "source": [
    "dfIndex  = pd.read_csv('./moviedata/day20index.csv', index_col = 'Id')"
   ]
  },
  {
   "cell_type": "code",
   "execution_count": 18,
   "id": "e3df6b01",
   "metadata": {},
   "outputs": [
    {
     "data": {
      "text/html": [
       "<div>\n",
       "<style scoped>\n",
       "    .dataframe tbody tr th:only-of-type {\n",
       "        vertical-align: middle;\n",
       "    }\n",
       "\n",
       "    .dataframe tbody tr th {\n",
       "        vertical-align: top;\n",
       "    }\n",
       "\n",
       "    .dataframe thead th {\n",
       "        text-align: right;\n",
       "    }\n",
       "</style>\n",
       "<table border=\"1\" class=\"dataframe\">\n",
       "  <thead>\n",
       "    <tr style=\"text-align: right;\">\n",
       "      <th></th>\n",
       "      <th>brand</th>\n",
       "      <th>laptop</th>\n",
       "      <th>mobile</th>\n",
       "      <th>speaker</th>\n",
       "      <th>headphone</th>\n",
       "      <th>tv</th>\n",
       "      <th>total</th>\n",
       "    </tr>\n",
       "    <tr>\n",
       "      <th>Id</th>\n",
       "      <th></th>\n",
       "      <th></th>\n",
       "      <th></th>\n",
       "      <th></th>\n",
       "      <th></th>\n",
       "      <th></th>\n",
       "      <th></th>\n",
       "    </tr>\n",
       "  </thead>\n",
       "  <tbody>\n",
       "    <tr>\n",
       "      <th>d1</th>\n",
       "      <td>apple</td>\n",
       "      <td>200</td>\n",
       "      <td>190</td>\n",
       "      <td>0.0</td>\n",
       "      <td>55</td>\n",
       "      <td>0.0</td>\n",
       "      <td>445</td>\n",
       "    </tr>\n",
       "    <tr>\n",
       "      <th>d2</th>\n",
       "      <td>haier</td>\n",
       "      <td>0</td>\n",
       "      <td>0</td>\n",
       "      <td>5.0</td>\n",
       "      <td>0</td>\n",
       "      <td>20.0</td>\n",
       "      <td>25</td>\n",
       "    </tr>\n",
       "    <tr>\n",
       "      <th>d3</th>\n",
       "      <td>lg</td>\n",
       "      <td>0</td>\n",
       "      <td>20</td>\n",
       "      <td>40.0</td>\n",
       "      <td>50</td>\n",
       "      <td>40.0</td>\n",
       "      <td>150</td>\n",
       "    </tr>\n",
       "    <tr>\n",
       "      <th>d4</th>\n",
       "      <td>mi</td>\n",
       "      <td>20</td>\n",
       "      <td>4</td>\n",
       "      <td>1.0</td>\n",
       "      <td>5</td>\n",
       "      <td>2.0</td>\n",
       "      <td>32</td>\n",
       "    </tr>\n",
       "    <tr>\n",
       "      <th>d5</th>\n",
       "      <td>samsung1</td>\n",
       "      <td>55</td>\n",
       "      <td>150</td>\n",
       "      <td>30.0</td>\n",
       "      <td>45</td>\n",
       "      <td>100.0</td>\n",
       "      <td>380</td>\n",
       "    </tr>\n",
       "    <tr>\n",
       "      <th>d6</th>\n",
       "      <td>samsung1</td>\n",
       "      <td>55</td>\n",
       "      <td>30</td>\n",
       "      <td>NaN</td>\n",
       "      <td>45</td>\n",
       "      <td>100.0</td>\n",
       "      <td>380</td>\n",
       "    </tr>\n",
       "    <tr>\n",
       "      <th>d7</th>\n",
       "      <td>sony</td>\n",
       "      <td>0</td>\n",
       "      <td>67</td>\n",
       "      <td>45.0</td>\n",
       "      <td>89</td>\n",
       "      <td>NaN</td>\n",
       "      <td>451</td>\n",
       "    </tr>\n",
       "  </tbody>\n",
       "</table>\n",
       "</div>"
      ],
      "text/plain": [
       "       brand  laptop  mobile  speaker  headphone     tv  total\n",
       "Id                                                            \n",
       "d1     apple     200     190      0.0         55    0.0    445\n",
       "d2     haier       0       0      5.0          0   20.0     25\n",
       "d3        lg       0      20     40.0         50   40.0    150\n",
       "d4        mi      20       4      1.0          5    2.0     32\n",
       "d5  samsung1      55     150     30.0         45  100.0    380\n",
       "d6  samsung1      55      30      NaN         45  100.0    380\n",
       "d7      sony       0      67     45.0         89    NaN    451"
      ]
     },
     "execution_count": 18,
     "metadata": {},
     "output_type": "execute_result"
    }
   ],
   "source": [
    "dfIndex"
   ]
  }
 ],
 "metadata": {
  "kernelspec": {
   "display_name": "Python 3",
   "language": "python",
   "name": "python3"
  },
  "language_info": {
   "codemirror_mode": {
    "name": "ipython",
    "version": 3
   },
   "file_extension": ".py",
   "mimetype": "text/x-python",
   "name": "python",
   "nbconvert_exporter": "python",
   "pygments_lexer": "ipython3",
   "version": "3.13.7"
  }
 },
 "nbformat": 4,
 "nbformat_minor": 5
}
