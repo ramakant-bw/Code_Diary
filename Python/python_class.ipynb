{
 "cells": [
  {
   "cell_type": "code",
   "execution_count": 2,
   "id": "2a49439e",
   "metadata": {},
   "outputs": [
    {
     "name": "stdout",
     "output_type": "stream",
     "text": [
      "\n",
      "new_cmp_name = abc ltd and cmp_name = default name\n",
      "changed cmp_name = abc ltd\n"
     ]
    },
    {
     "data": {
      "text/plain": [
       "<__main__.cmp at 0x23feaff5940>"
      ]
     },
     "execution_count": 2,
     "metadata": {},
     "output_type": "execute_result"
    }
   ],
   "source": [
    "class cmp:\n",
    "\n",
    "    cmp_name ='default name'\n",
    "\n",
    "    def __init__(self,new_cmp_name): # constructor\n",
    "        print()\n",
    "        print(f'new_cmp_name = {new_cmp_name} and cmp_name = {self.cmp_name}')\n",
    "        self.cmp_name = new_cmp_name\n",
    "        print(f'changed cmp_name = {self.cmp_name}')\n",
    "    \n",
    "\n",
    "\n",
    "cmp(\"abc ltd\")"
   ]
  },
  {
   "cell_type": "code",
   "execution_count": 1,
   "id": "a4b43f07",
   "metadata": {},
   "outputs": [
    {
     "name": "stdout",
     "output_type": "stream",
     "text": [
      "animal name is Tiger and name is ani_name\n",
      "changed name  = Tiger\n"
     ]
    },
    {
     "data": {
      "text/plain": [
       "<__main__.Animal at 0x252dbb60ec0>"
      ]
     },
     "execution_count": 1,
     "metadata": {},
     "output_type": "execute_result"
    }
   ],
   "source": [
    "class Animal:\n",
    "    name = 'ani_name'\n",
    "\n",
    "    def __init__(self, AniName):\n",
    "        print(f'animal name is {AniName} and name is {self.name}')\n",
    "        self.name = AniName\n",
    "        print(f'changed name  = {self.name}')\n",
    "\n",
    "\n",
    "\n",
    "\n",
    "Animal('Tiger')"
   ]
  }
 ],
 "metadata": {
  "kernelspec": {
   "display_name": "Python 3",
   "language": "python",
   "name": "python3"
  },
  "language_info": {
   "codemirror_mode": {
    "name": "ipython",
    "version": 3
   },
   "file_extension": ".py",
   "mimetype": "text/x-python",
   "name": "python",
   "nbconvert_exporter": "python",
   "pygments_lexer": "ipython3",
   "version": "3.13.7"
  }
 },
 "nbformat": 4,
 "nbformat_minor": 5
}
