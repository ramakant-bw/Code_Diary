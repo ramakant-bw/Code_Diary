{
 "cells": [
  {
   "cell_type": "markdown",
   "id": "9b977a99",
   "metadata": {},
   "source": [
    "* Function"
   ]
  },
  {
   "cell_type": "code",
   "execution_count": 1,
   "id": "f2b1dac5",
   "metadata": {},
   "outputs": [
    {
     "name": "stdout",
     "output_type": "stream",
     "text": [
      "17\n"
     ]
    }
   ],
   "source": [
    "def add_numbers(a,b,c):\n",
    "    return a + b + c\n",
    "\n",
    "result = add_numbers(4,5,8)\n",
    "print(result)\n"
   ]
  },
  {
   "cell_type": "code",
   "execution_count": 3,
   "id": "edf00918",
   "metadata": {},
   "outputs": [
    {
     "name": "stdout",
     "output_type": "stream",
     "text": [
      "multification of 1 x 2 x 3 =6\n"
     ]
    }
   ],
   "source": [
    "def mul_numbers(a,b,c):\n",
    "    print(f'multification of {a} x {b} x {c} ={a * b * c}')\n",
    "\n",
    "\n",
    "result_mul = mul_numbers(1,2,3)"
   ]
  },
  {
   "cell_type": "code",
   "execution_count": 2,
   "id": "e1f7a13a",
   "metadata": {},
   "outputs": [
    {
     "name": "stdout",
     "output_type": "stream",
     "text": [
      "90 is even number\n",
      "35 is odd number\n"
     ]
    }
   ],
   "source": [
    "def even_odd(a):\n",
    "    if a % 2 == 0:\n",
    "        return print(f'{a} is even number')\n",
    "\n",
    "    else:\n",
    "        return print(f'{a} is odd number')\n",
    "    \n",
    "\n",
    "\n",
    "even_odd(90)\n",
    "even_odd(35)"
   ]
  }
 ],
 "metadata": {
  "kernelspec": {
   "display_name": "Python 3",
   "language": "python",
   "name": "python3"
  },
  "language_info": {
   "codemirror_mode": {
    "name": "ipython",
    "version": 3
   },
   "file_extension": ".py",
   "mimetype": "text/x-python",
   "name": "python",
   "nbconvert_exporter": "python",
   "pygments_lexer": "ipython3",
   "version": "3.13.7"
  }
 },
 "nbformat": 4,
 "nbformat_minor": 5
}
